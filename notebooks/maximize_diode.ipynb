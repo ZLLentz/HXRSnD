{
 "cells": [
  {
   "cell_type": "code",
   "execution_count": null,
   "metadata": {
    "collapsed": true
   },
   "outputs": [],
   "source": [
    "%matplotlib notebook"
   ]
  },
  {
   "cell_type": "code",
   "execution_count": null,
   "metadata": {},
   "outputs": [],
   "source": [
    "from hxrsnd import maximize_lorentz\n",
    "print(maximize_lorentz.__doc__)"
   ]
  },
  {
   "cell_type": "code",
   "execution_count": null,
   "metadata": {},
   "outputs": [],
   "source": [
    "from hxrsnd.tests import crystal, Diode\n",
    "print(Diode.__doc__)"
   ]
  },
  {
   "cell_type": "code",
   "execution_count": null,
   "metadata": {
    "collapsed": true
   },
   "outputs": [],
   "source": [
    "#Configure RunEngine\n",
    "from bluesky.run_engine import RunEngine\n",
    "from bluesky.plans      import run_wrapper\n",
    "from bluesky.callbacks  import LivePlot\n",
    "from bluesky.utils      import install_nb_kicker\n",
    "RE = RunEngine()\n",
    "install_nb_kicker()\n",
    "\n",
    "#Configure logging\n",
    "import logging\n",
    "logging.basicConfig(level=logging.INFO, format='%(asctime)s %(message)s')"
   ]
  },
  {
   "cell_type": "code",
   "execution_count": null,
   "metadata": {
    "collapsed": true
   },
   "outputs": [],
   "source": [
    "import math\n",
    "\n",
    "#Modify the Lorentz we are trying to maximize\n",
    "actual_center      = 10.0\n",
    "distribution_sigma = 2.0      #FWHM of Lorentz = 2 * sigma\n",
    "distribution_amp   = distribution_sigma/1*math.pi  #Distribution maximum will be pi*amplitude / sigma\n",
    "noise_multiplier   = 0.05    #Uniform noise\n",
    "\n",
    "#Create simulated Diode readout\n",
    "diode = Diode('intensity', crystal, 'angle', actual_center,\n",
    "               sigma=distribution_sigma, amplitude=distribution_amp,\n",
    "               noise_multiplier=noise_multiplier)"
   ]
  },
  {
   "cell_type": "code",
   "execution_count": null,
   "metadata": {
    "collapsed": true
   },
   "outputs": [],
   "source": [
    "#Create plans to maximize the Lorentz\n",
    "bounds  = (9., 11.)\n",
    "nsteps  = 10\n",
    "average = 50\n",
    "initial_guess = None #Guess either the center, amplitude or sigma of the Lorentz\n",
    "plan = run_wrapper(maximize_lorentz(diode, crystal, 'intensity',\n",
    "                                    nsteps=nsteps, bounds=bounds,\n",
    "                                    average=average,\n",
    "                                    position_field='angle',\n",
    "                                    initial_guess=initial_guess))"
   ]
  },
  {
   "cell_type": "code",
   "execution_count": null,
   "metadata": {},
   "outputs": [],
   "source": [
    "#Create Plot of Simulated Data\n",
    "lp = LivePlot('intensity', 'angle')"
   ]
  },
  {
   "cell_type": "code",
   "execution_count": null,
   "metadata": {},
   "outputs": [],
   "source": [
    "#Run the plan\n",
    "RE(plan, lp)"
   ]
  },
  {
   "cell_type": "code",
   "execution_count": null,
   "metadata": {},
   "outputs": [],
   "source": [
    "#Summarize success of plan\n",
    "print(\"Final crystal position is {}, the actual center of the distribution \"\n",
    "      \"is at {}\".format(crystal.read()['angle']['value'], actual_center))\n",
    "print(\"This leaves the diode readout at {}\"\n",
    "      \"\".format(diode.read()['intensity']['value']))"
   ]
  }
 ],
 "metadata": {
  "kernelspec": {
   "display_name": "Python 3",
   "language": "python",
   "name": "python3"
  },
  "language_info": {
   "codemirror_mode": {
    "name": "ipython",
    "version": 3
   },
   "file_extension": ".py",
   "mimetype": "text/x-python",
   "name": "python",
   "nbconvert_exporter": "python",
   "pygments_lexer": "ipython3",
   "version": "3.6.1"
  }
 },
 "nbformat": 4,
 "nbformat_minor": 2
}
